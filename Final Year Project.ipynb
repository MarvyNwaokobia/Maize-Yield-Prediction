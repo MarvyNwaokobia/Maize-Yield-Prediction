{
 "cells": [
  {
   "cell_type": "code",
   "execution_count": 1,
   "metadata": {},
   "outputs": [],
   "source": [
    "import pandas as pd\n",
    "import numpy as np\n",
    "import matplotlib.pyplot as plt\n",
    "import seaborn as sns\n",
    "from sklearn.metrics import accuracy_score"
   ]
  },
  {
   "cell_type": "code",
   "execution_count": 2,
   "metadata": {},
   "outputs": [],
   "source": [
    "df = pd.read_csv('main_df.csv') "
   ]
  },
  {
   "cell_type": "code",
   "execution_count": 3,
   "metadata": {},
   "outputs": [
    {
     "data": {
      "text/html": [
       "<div>\n",
       "<style scoped>\n",
       "    .dataframe tbody tr th:only-of-type {\n",
       "        vertical-align: middle;\n",
       "    }\n",
       "\n",
       "    .dataframe tbody tr th {\n",
       "        vertical-align: top;\n",
       "    }\n",
       "\n",
       "    .dataframe thead th {\n",
       "        text-align: right;\n",
       "    }\n",
       "</style>\n",
       "<table border=\"1\" class=\"dataframe\">\n",
       "  <thead>\n",
       "    <tr style=\"text-align: right;\">\n",
       "      <th></th>\n",
       "      <th>Index</th>\n",
       "      <th>Area</th>\n",
       "      <th>Item</th>\n",
       "      <th>Year</th>\n",
       "      <th>pesticides_tonnes</th>\n",
       "      <th>average_rain_fall_mm_per_year</th>\n",
       "      <th>avg_temp</th>\n",
       "      <th>MEASURE</th>\n",
       "      <th>INDICATOR</th>\n",
       "      <th>hg/ha_yield</th>\n",
       "    </tr>\n",
       "  </thead>\n",
       "  <tbody>\n",
       "    <tr>\n",
       "      <th>0</th>\n",
       "      <td>0</td>\n",
       "      <td>Ghana</td>\n",
       "      <td>Maize</td>\n",
       "      <td>1990</td>\n",
       "      <td>65.8</td>\n",
       "      <td>1187</td>\n",
       "      <td>26.73</td>\n",
       "      <td>THND_HA</td>\n",
       "      <td>CROPYIELD</td>\n",
       "      <td>11889</td>\n",
       "    </tr>\n",
       "    <tr>\n",
       "      <th>1</th>\n",
       "      <td>1</td>\n",
       "      <td>Ghana</td>\n",
       "      <td>Maize</td>\n",
       "      <td>1991</td>\n",
       "      <td>65.8</td>\n",
       "      <td>1187</td>\n",
       "      <td>26.60</td>\n",
       "      <td>THND_HA</td>\n",
       "      <td>CROPYIELD</td>\n",
       "      <td>15260</td>\n",
       "    </tr>\n",
       "    <tr>\n",
       "      <th>2</th>\n",
       "      <td>2</td>\n",
       "      <td>Ghana</td>\n",
       "      <td>Maize</td>\n",
       "      <td>1992</td>\n",
       "      <td>65.8</td>\n",
       "      <td>1187</td>\n",
       "      <td>26.47</td>\n",
       "      <td>THND_HA</td>\n",
       "      <td>CROPYIELD</td>\n",
       "      <td>12040</td>\n",
       "    </tr>\n",
       "    <tr>\n",
       "      <th>3</th>\n",
       "      <td>3</td>\n",
       "      <td>Ghana</td>\n",
       "      <td>Maize</td>\n",
       "      <td>1993</td>\n",
       "      <td>65.8</td>\n",
       "      <td>1187</td>\n",
       "      <td>26.67</td>\n",
       "      <td>THND_HA</td>\n",
       "      <td>CROPYIELD</td>\n",
       "      <td>15092</td>\n",
       "    </tr>\n",
       "    <tr>\n",
       "      <th>4</th>\n",
       "      <td>4</td>\n",
       "      <td>Ghana</td>\n",
       "      <td>Maize</td>\n",
       "      <td>1994</td>\n",
       "      <td>65.8</td>\n",
       "      <td>1187</td>\n",
       "      <td>26.62</td>\n",
       "      <td>THND_HA</td>\n",
       "      <td>CROPYIELD</td>\n",
       "      <td>14933</td>\n",
       "    </tr>\n",
       "  </tbody>\n",
       "</table>\n",
       "</div>"
      ],
      "text/plain": [
       "   Index   Area   Item  Year  pesticides_tonnes  \\\n",
       "0      0  Ghana  Maize  1990               65.8   \n",
       "1      1  Ghana  Maize  1991               65.8   \n",
       "2      2  Ghana  Maize  1992               65.8   \n",
       "3      3  Ghana  Maize  1993               65.8   \n",
       "4      4  Ghana  Maize  1994               65.8   \n",
       "\n",
       "   average_rain_fall_mm_per_year  avg_temp  MEASURE  INDICATOR  hg/ha_yield  \n",
       "0                           1187     26.73  THND_HA  CROPYIELD        11889  \n",
       "1                           1187     26.60  THND_HA  CROPYIELD        15260  \n",
       "2                           1187     26.47  THND_HA  CROPYIELD        12040  \n",
       "3                           1187     26.67  THND_HA  CROPYIELD        15092  \n",
       "4                           1187     26.62  THND_HA  CROPYIELD        14933  "
      ]
     },
     "execution_count": 3,
     "metadata": {},
     "output_type": "execute_result"
    }
   ],
   "source": [
    "df.head()"
   ]
  },
  {
   "cell_type": "code",
   "execution_count": 4,
   "metadata": {},
   "outputs": [
    {
     "data": {
      "text/html": [
       "<div>\n",
       "<style scoped>\n",
       "    .dataframe tbody tr th:only-of-type {\n",
       "        vertical-align: middle;\n",
       "    }\n",
       "\n",
       "    .dataframe tbody tr th {\n",
       "        vertical-align: top;\n",
       "    }\n",
       "\n",
       "    .dataframe thead th {\n",
       "        text-align: right;\n",
       "    }\n",
       "</style>\n",
       "<table border=\"1\" class=\"dataframe\">\n",
       "  <thead>\n",
       "    <tr style=\"text-align: right;\">\n",
       "      <th></th>\n",
       "      <th>Index</th>\n",
       "      <th>Area</th>\n",
       "      <th>Item</th>\n",
       "      <th>Year</th>\n",
       "      <th>pesticides_tonnes</th>\n",
       "      <th>average_rain_fall_mm_per_year</th>\n",
       "      <th>avg_temp</th>\n",
       "      <th>MEASURE</th>\n",
       "      <th>INDICATOR</th>\n",
       "      <th>hg/ha_yield</th>\n",
       "    </tr>\n",
       "  </thead>\n",
       "  <tbody>\n",
       "    <tr>\n",
       "      <th>183</th>\n",
       "      <td>183</td>\n",
       "      <td>Zambia</td>\n",
       "      <td>Maize</td>\n",
       "      <td>2009</td>\n",
       "      <td>1670.0</td>\n",
       "      <td>1020</td>\n",
       "      <td>20.76</td>\n",
       "      <td>TONNE_HA</td>\n",
       "      <td>CROPYIELD</td>\n",
       "      <td>20692</td>\n",
       "    </tr>\n",
       "    <tr>\n",
       "      <th>184</th>\n",
       "      <td>184</td>\n",
       "      <td>Zambia</td>\n",
       "      <td>Maize</td>\n",
       "      <td>2010</td>\n",
       "      <td>1670.0</td>\n",
       "      <td>1020</td>\n",
       "      <td>21.34</td>\n",
       "      <td>TONNE_HA</td>\n",
       "      <td>CROPYIELD</td>\n",
       "      <td>25871</td>\n",
       "    </tr>\n",
       "    <tr>\n",
       "      <th>185</th>\n",
       "      <td>185</td>\n",
       "      <td>Zambia</td>\n",
       "      <td>Maize</td>\n",
       "      <td>2011</td>\n",
       "      <td>1670.0</td>\n",
       "      <td>1020</td>\n",
       "      <td>20.88</td>\n",
       "      <td>TONNE_HA</td>\n",
       "      <td>CROPYIELD</td>\n",
       "      <td>27414</td>\n",
       "    </tr>\n",
       "    <tr>\n",
       "      <th>186</th>\n",
       "      <td>186</td>\n",
       "      <td>Zambia</td>\n",
       "      <td>Maize</td>\n",
       "      <td>2012</td>\n",
       "      <td>1670.0</td>\n",
       "      <td>1020</td>\n",
       "      <td>20.80</td>\n",
       "      <td>TONNE_HA</td>\n",
       "      <td>CROPYIELD</td>\n",
       "      <td>26545</td>\n",
       "    </tr>\n",
       "    <tr>\n",
       "      <th>187</th>\n",
       "      <td>187</td>\n",
       "      <td>Zambia</td>\n",
       "      <td>Maize</td>\n",
       "      <td>2013</td>\n",
       "      <td>1670.0</td>\n",
       "      <td>1020</td>\n",
       "      <td>20.14</td>\n",
       "      <td>TONNE_HA</td>\n",
       "      <td>CROPYIELD</td>\n",
       "      <td>25382</td>\n",
       "    </tr>\n",
       "  </tbody>\n",
       "</table>\n",
       "</div>"
      ],
      "text/plain": [
       "     Index    Area   Item  Year  pesticides_tonnes  \\\n",
       "183    183  Zambia  Maize  2009             1670.0   \n",
       "184    184  Zambia  Maize  2010             1670.0   \n",
       "185    185  Zambia  Maize  2011             1670.0   \n",
       "186    186  Zambia  Maize  2012             1670.0   \n",
       "187    187  Zambia  Maize  2013             1670.0   \n",
       "\n",
       "     average_rain_fall_mm_per_year  avg_temp   MEASURE  INDICATOR  hg/ha_yield  \n",
       "183                           1020     20.76  TONNE_HA  CROPYIELD        20692  \n",
       "184                           1020     21.34  TONNE_HA  CROPYIELD        25871  \n",
       "185                           1020     20.88  TONNE_HA  CROPYIELD        27414  \n",
       "186                           1020     20.80  TONNE_HA  CROPYIELD        26545  \n",
       "187                           1020     20.14  TONNE_HA  CROPYIELD        25382  "
      ]
     },
     "execution_count": 4,
     "metadata": {},
     "output_type": "execute_result"
    }
   ],
   "source": [
    "df.tail()"
   ]
  },
  {
   "cell_type": "code",
   "execution_count": 5,
   "metadata": {},
   "outputs": [
    {
     "data": {
      "text/html": [
       "<div>\n",
       "<style scoped>\n",
       "    .dataframe tbody tr th:only-of-type {\n",
       "        vertical-align: middle;\n",
       "    }\n",
       "\n",
       "    .dataframe tbody tr th {\n",
       "        vertical-align: top;\n",
       "    }\n",
       "\n",
       "    .dataframe thead th {\n",
       "        text-align: right;\n",
       "    }\n",
       "</style>\n",
       "<table border=\"1\" class=\"dataframe\">\n",
       "  <thead>\n",
       "    <tr style=\"text-align: right;\">\n",
       "      <th></th>\n",
       "      <th>Index</th>\n",
       "      <th>Area</th>\n",
       "      <th>Item</th>\n",
       "      <th>Year</th>\n",
       "      <th>pesticides_tonnes</th>\n",
       "      <th>avg_rainfall</th>\n",
       "      <th>avg_temp</th>\n",
       "      <th>MEASURE</th>\n",
       "      <th>INDICATOR</th>\n",
       "      <th>hg/ha_yield</th>\n",
       "    </tr>\n",
       "  </thead>\n",
       "  <tbody>\n",
       "    <tr>\n",
       "      <th>0</th>\n",
       "      <td>0</td>\n",
       "      <td>Ghana</td>\n",
       "      <td>Maize</td>\n",
       "      <td>1990</td>\n",
       "      <td>65.8</td>\n",
       "      <td>1187</td>\n",
       "      <td>26.73</td>\n",
       "      <td>THND_HA</td>\n",
       "      <td>CROPYIELD</td>\n",
       "      <td>11889</td>\n",
       "    </tr>\n",
       "    <tr>\n",
       "      <th>1</th>\n",
       "      <td>1</td>\n",
       "      <td>Ghana</td>\n",
       "      <td>Maize</td>\n",
       "      <td>1991</td>\n",
       "      <td>65.8</td>\n",
       "      <td>1187</td>\n",
       "      <td>26.60</td>\n",
       "      <td>THND_HA</td>\n",
       "      <td>CROPYIELD</td>\n",
       "      <td>15260</td>\n",
       "    </tr>\n",
       "    <tr>\n",
       "      <th>2</th>\n",
       "      <td>2</td>\n",
       "      <td>Ghana</td>\n",
       "      <td>Maize</td>\n",
       "      <td>1992</td>\n",
       "      <td>65.8</td>\n",
       "      <td>1187</td>\n",
       "      <td>26.47</td>\n",
       "      <td>THND_HA</td>\n",
       "      <td>CROPYIELD</td>\n",
       "      <td>12040</td>\n",
       "    </tr>\n",
       "    <tr>\n",
       "      <th>3</th>\n",
       "      <td>3</td>\n",
       "      <td>Ghana</td>\n",
       "      <td>Maize</td>\n",
       "      <td>1993</td>\n",
       "      <td>65.8</td>\n",
       "      <td>1187</td>\n",
       "      <td>26.67</td>\n",
       "      <td>THND_HA</td>\n",
       "      <td>CROPYIELD</td>\n",
       "      <td>15092</td>\n",
       "    </tr>\n",
       "    <tr>\n",
       "      <th>4</th>\n",
       "      <td>4</td>\n",
       "      <td>Ghana</td>\n",
       "      <td>Maize</td>\n",
       "      <td>1994</td>\n",
       "      <td>65.8</td>\n",
       "      <td>1187</td>\n",
       "      <td>26.62</td>\n",
       "      <td>THND_HA</td>\n",
       "      <td>CROPYIELD</td>\n",
       "      <td>14933</td>\n",
       "    </tr>\n",
       "  </tbody>\n",
       "</table>\n",
       "</div>"
      ],
      "text/plain": [
       "   Index   Area   Item  Year  pesticides_tonnes  avg_rainfall  avg_temp  \\\n",
       "0      0  Ghana  Maize  1990               65.8          1187     26.73   \n",
       "1      1  Ghana  Maize  1991               65.8          1187     26.60   \n",
       "2      2  Ghana  Maize  1992               65.8          1187     26.47   \n",
       "3      3  Ghana  Maize  1993               65.8          1187     26.67   \n",
       "4      4  Ghana  Maize  1994               65.8          1187     26.62   \n",
       "\n",
       "   MEASURE  INDICATOR  hg/ha_yield  \n",
       "0  THND_HA  CROPYIELD        11889  \n",
       "1  THND_HA  CROPYIELD        15260  \n",
       "2  THND_HA  CROPYIELD        12040  \n",
       "3  THND_HA  CROPYIELD        15092  \n",
       "4  THND_HA  CROPYIELD        14933  "
      ]
     },
     "execution_count": 5,
     "metadata": {},
     "output_type": "execute_result"
    }
   ],
   "source": [
    "df= df.rename(index=str, columns={\"average_rain_fall_mm_per_year\": \"avg_rainfall\"})\n",
    "\n",
    "df.head()"
   ]
  },
  {
   "cell_type": "code",
   "execution_count": 6,
   "metadata": {},
   "outputs": [],
   "source": [
    "df= df.drop(['Index','MEASURE','INDICATOR'], axis=1)"
   ]
  },
  {
   "cell_type": "code",
   "execution_count": 7,
   "metadata": {},
   "outputs": [
    {
     "name": "stdout",
     "output_type": "stream",
     "text": [
      "<class 'pandas.core.frame.DataFrame'>\n",
      "Index: 188 entries, 0 to 187\n",
      "Data columns (total 7 columns):\n",
      " #   Column             Non-Null Count  Dtype  \n",
      "---  ------             --------------  -----  \n",
      " 0   Area               188 non-null    object \n",
      " 1   Item               188 non-null    object \n",
      " 2   Year               188 non-null    int64  \n",
      " 3   pesticides_tonnes  188 non-null    float64\n",
      " 4   avg_rainfall       188 non-null    int64  \n",
      " 5   avg_temp           188 non-null    float64\n",
      " 6   hg/ha_yield        188 non-null    int64  \n",
      "dtypes: float64(2), int64(3), object(2)\n",
      "memory usage: 11.8+ KB\n"
     ]
    }
   ],
   "source": [
    "df.info()"
   ]
  },
  {
   "cell_type": "code",
   "execution_count": 8,
   "metadata": {},
   "outputs": [
    {
     "data": {
      "text/html": [
       "<div>\n",
       "<style scoped>\n",
       "    .dataframe tbody tr th:only-of-type {\n",
       "        vertical-align: middle;\n",
       "    }\n",
       "\n",
       "    .dataframe tbody tr th {\n",
       "        vertical-align: top;\n",
       "    }\n",
       "\n",
       "    .dataframe thead th {\n",
       "        text-align: right;\n",
       "    }\n",
       "</style>\n",
       "<table border=\"1\" class=\"dataframe\">\n",
       "  <thead>\n",
       "    <tr style=\"text-align: right;\">\n",
       "      <th></th>\n",
       "      <th>Year</th>\n",
       "      <th>pesticides_tonnes</th>\n",
       "      <th>avg_rainfall</th>\n",
       "      <th>avg_temp</th>\n",
       "      <th>hg/ha_yield</th>\n",
       "    </tr>\n",
       "  </thead>\n",
       "  <tbody>\n",
       "    <tr>\n",
       "      <th>count</th>\n",
       "      <td>188.000000</td>\n",
       "      <td>188.000000</td>\n",
       "      <td>188.000000</td>\n",
       "      <td>188.000000</td>\n",
       "      <td>188.000000</td>\n",
       "    </tr>\n",
       "    <tr>\n",
       "      <th>mean</th>\n",
       "      <td>2001.670213</td>\n",
       "      <td>17148.515745</td>\n",
       "      <td>1026.648936</td>\n",
       "      <td>21.210266</td>\n",
       "      <td>24615.393617</td>\n",
       "    </tr>\n",
       "    <tr>\n",
       "      <th>std</th>\n",
       "      <td>7.187911</td>\n",
       "      <td>14985.455600</td>\n",
       "      <td>756.621320</td>\n",
       "      <td>4.252928</td>\n",
       "      <td>14091.685832</td>\n",
       "    </tr>\n",
       "    <tr>\n",
       "      <th>min</th>\n",
       "      <td>1990.000000</td>\n",
       "      <td>17.400000</td>\n",
       "      <td>495.000000</td>\n",
       "      <td>14.980000</td>\n",
       "      <td>1587.000000</td>\n",
       "    </tr>\n",
       "    <tr>\n",
       "      <th>25%</th>\n",
       "      <td>1995.000000</td>\n",
       "      <td>1080.000000</td>\n",
       "      <td>495.000000</td>\n",
       "      <td>18.195000</td>\n",
       "      <td>14990.500000</td>\n",
       "    </tr>\n",
       "    <tr>\n",
       "      <th>50%</th>\n",
       "      <td>2001.000000</td>\n",
       "      <td>18025.000000</td>\n",
       "      <td>1020.000000</td>\n",
       "      <td>21.065000</td>\n",
       "      <td>22274.000000</td>\n",
       "    </tr>\n",
       "    <tr>\n",
       "      <th>75%</th>\n",
       "      <td>2008.000000</td>\n",
       "      <td>26857.000000</td>\n",
       "      <td>1187.000000</td>\n",
       "      <td>26.585000</td>\n",
       "      <td>30000.000000</td>\n",
       "    </tr>\n",
       "    <tr>\n",
       "      <th>max</th>\n",
       "      <td>2013.000000</td>\n",
       "      <td>61445.600000</td>\n",
       "      <td>2875.000000</td>\n",
       "      <td>30.650000</td>\n",
       "      <td>89681.000000</td>\n",
       "    </tr>\n",
       "  </tbody>\n",
       "</table>\n",
       "</div>"
      ],
      "text/plain": [
       "              Year  pesticides_tonnes  avg_rainfall    avg_temp   hg/ha_yield\n",
       "count   188.000000         188.000000    188.000000  188.000000    188.000000\n",
       "mean   2001.670213       17148.515745   1026.648936   21.210266  24615.393617\n",
       "std       7.187911       14985.455600    756.621320    4.252928  14091.685832\n",
       "min    1990.000000          17.400000    495.000000   14.980000   1587.000000\n",
       "25%    1995.000000        1080.000000    495.000000   18.195000  14990.500000\n",
       "50%    2001.000000       18025.000000   1020.000000   21.065000  22274.000000\n",
       "75%    2008.000000       26857.000000   1187.000000   26.585000  30000.000000\n",
       "max    2013.000000       61445.600000   2875.000000   30.650000  89681.000000"
      ]
     },
     "execution_count": 8,
     "metadata": {},
     "output_type": "execute_result"
    }
   ],
   "source": [
    "df.describe()"
   ]
  },
  {
   "cell_type": "code",
   "execution_count": 9,
   "metadata": {},
   "outputs": [
    {
     "data": {
      "text/plain": [
       "36351    4\n",
       "24371    4\n",
       "27043    4\n",
       "43671    4\n",
       "46736    4\n",
       "        ..\n",
       "14980    1\n",
       "61320    1\n",
       "5207     1\n",
       "6794     1\n",
       "32000    1\n",
       "Name: hg/ha_yield, Length: 115, dtype: int64"
      ]
     },
     "execution_count": 9,
     "metadata": {},
     "output_type": "execute_result"
    }
   ],
   "source": [
    "df[\"hg/ha_yield\"].value_counts()"
   ]
  },
  {
   "cell_type": "code",
   "execution_count": 10,
   "metadata": {},
   "outputs": [
    {
     "data": {
      "text/plain": [
       "115"
      ]
     },
     "execution_count": 10,
     "metadata": {},
     "output_type": "execute_result"
    }
   ],
   "source": [
    "df['hg/ha_yield'].nunique()"
   ]
  },
  {
   "cell_type": "code",
   "execution_count": 11,
   "metadata": {},
   "outputs": [
    {
     "data": {
      "text/plain": [
       "Area                 0\n",
       "Item                 0\n",
       "Year                 0\n",
       "pesticides_tonnes    0\n",
       "avg_rainfall         0\n",
       "avg_temp             0\n",
       "hg/ha_yield          0\n",
       "dtype: int64"
      ]
     },
     "execution_count": 11,
     "metadata": {},
     "output_type": "execute_result"
    }
   ],
   "source": [
    "df.isnull().sum()"
   ]
  },
  {
   "cell_type": "code",
   "execution_count": 12,
   "metadata": {},
   "outputs": [
    {
     "data": {
      "text/html": [
       "<div>\n",
       "<style scoped>\n",
       "    .dataframe tbody tr th:only-of-type {\n",
       "        vertical-align: middle;\n",
       "    }\n",
       "\n",
       "    .dataframe tbody tr th {\n",
       "        vertical-align: top;\n",
       "    }\n",
       "\n",
       "    .dataframe thead th {\n",
       "        text-align: right;\n",
       "    }\n",
       "</style>\n",
       "<table border=\"1\" class=\"dataframe\">\n",
       "  <thead>\n",
       "    <tr style=\"text-align: right;\">\n",
       "      <th></th>\n",
       "      <th>Area</th>\n",
       "      <th>Year</th>\n",
       "      <th>pesticides_tonnes</th>\n",
       "      <th>avg_rainfall</th>\n",
       "      <th>avg_temp</th>\n",
       "      <th>hg/ha_yield</th>\n",
       "    </tr>\n",
       "    <tr>\n",
       "      <th>Item</th>\n",
       "      <th></th>\n",
       "      <th></th>\n",
       "      <th></th>\n",
       "      <th></th>\n",
       "      <th></th>\n",
       "      <th></th>\n",
       "    </tr>\n",
       "  </thead>\n",
       "  <tbody>\n",
       "    <tr>\n",
       "      <th>Maize</th>\n",
       "      <td>188</td>\n",
       "      <td>188</td>\n",
       "      <td>188</td>\n",
       "      <td>188</td>\n",
       "      <td>188</td>\n",
       "      <td>188</td>\n",
       "    </tr>\n",
       "  </tbody>\n",
       "</table>\n",
       "</div>"
      ],
      "text/plain": [
       "       Area  Year  pesticides_tonnes  avg_rainfall  avg_temp  hg/ha_yield\n",
       "Item                                                                     \n",
       "Maize   188   188                188           188       188          188"
      ]
     },
     "execution_count": 12,
     "metadata": {},
     "output_type": "execute_result"
    }
   ],
   "source": [
    "df.groupby('Item').count()"
   ]
  },
  {
   "cell_type": "code",
   "execution_count": 13,
   "metadata": {},
   "outputs": [
    {
     "data": {
      "text/plain": [
       "Item   Area        \n",
       "Maize  South Africa    2786360\n",
       "       Malaysia         809703\n",
       "       Zambia           429235\n",
       "       Ghana            354169\n",
       "       Mozambique       182965\n",
       "       Sudan             65262\n",
       "Name: hg/ha_yield, dtype: int64"
      ]
     },
     "execution_count": 13,
     "metadata": {},
     "output_type": "execute_result"
    }
   ],
   "source": [
    "df.groupby(['Item', 'Area'],sort=True)['hg/ha_yield'].sum().nlargest(6)"
   ]
  },
  {
   "cell_type": "code",
   "execution_count": 14,
   "metadata": {},
   "outputs": [
    {
     "data": {
      "image/png": "[encoded data removed]",
      "text/plain": [
       "<Figure size 792x504 with 2 Axes>"
      ]
     },
     "metadata": {
      "needs_background": "light"
     },
     "output_type": "display_data"
    }
   ],
   "source": [
    "correlation_data=df.select_dtypes(include=[np.number]).corr()\n",
    "\n",
    "mask = np.zeros_like(correlation_data, dtype=np.bool)\n",
    "mask[np.triu_indices_from(mask)] = True\n",
    "\n",
    "f, ax = plt.subplots(figsize=(11, 7))\n",
    "\n",
    "cmap = sns.palette=\"vlag\"\n",
    "\n",
    "sns.heatmap(correlation_data, mask=mask, cmap=cmap, vmax=.3, center=0,\n",
    "            square=True, linewidths=.5, cbar_kws={\"shrink\": .5});"
   ]
  },
  {
   "cell_type": "code",
   "execution_count": 15,
   "metadata": {},
   "outputs": [
    {
     "data": {
      "text/plain": [
       "<AxesSubplot:>"
      ]
     },
     "execution_count": 15,
     "metadata": {},
     "output_type": "execute_result"
    },
    {
     "data": {
      "image/png": "[encoded data removed]",
      "text/plain": [
       "<Figure size 432x288 with 2 Axes>"
      ]
     },
     "metadata": {
      "needs_background": "light"
     },
     "output_type": "display_data"
    }
   ],
   "source": [
    "sns.heatmap(df.isnull(),yticklabels=False,cmap=\"viridis\")"
   ]
  },
  {
   "cell_type": "code",
   "execution_count": 16,
   "metadata": {},
   "outputs": [
    {
     "data": {
      "text/plain": [
       "<seaborn.axisgrid.JointGrid at 0x1b68fda11c0>"
      ]
     },
     "execution_count": 16,
     "metadata": {},
     "output_type": "execute_result"
    },
    {
     "data": {
      "image/png": "[encoded data removed]",
      "text/plain": [
       "<Figure size 432x432 with 3 Axes>"
      ]
     },
     "metadata": {
      "needs_background": "light"
     },
     "output_type": "display_data"
    }
   ],
   "source": [
    "sns.jointplot(data=df,x='hg/ha_yield',y='avg_temp',color='brown')"
   ]
  },
  {
   "cell_type": "code",
   "execution_count": 17,
   "metadata": {},
   "outputs": [
    {
     "data": {
      "text/plain": [
       "<AxesSubplot:xlabel='avg_temp', ylabel='Density'>"
      ]
     },
     "execution_count": 17,
     "metadata": {},
     "output_type": "execute_result"
    },
    {
     "data": {
      "image/png": "[encoded data removed]",
      "text/plain": [
       "<Figure size 432x288 with 1 Axes>"
      ]
     },
     "metadata": {
      "needs_background": "light"
     },
     "output_type": "display_data"
    }
   ],
   "source": [
    "sns.kdeplot(df['avg_temp'])"
   ]
  },
  {
   "cell_type": "code",
   "execution_count": 18,
   "metadata": {},
   "outputs": [
    {
     "data": {
      "text/plain": [
       "<AxesSubplot:ylabel='Frequency'>"
      ]
     },
     "execution_count": 18,
     "metadata": {},
     "output_type": "execute_result"
    },
    {
     "data": {
      "image/png": "[encoded data removed]",
      "text/plain": [
       "<Figure size 432x288 with 1 Axes>"
      ]
     },
     "metadata": {
      "needs_background": "light"
     },
     "output_type": "display_data"
    }
   ],
   "source": [
    "df[\"hg/ha_yield\"].plot.hist()"
   ]
  },
  {
   "cell_type": "code",
   "execution_count": 19,
   "metadata": {},
   "outputs": [],
   "source": [
    "from sklearn.preprocessing import OneHotEncoder"
   ]
  },
  {
   "cell_type": "code",
   "execution_count": 20,
   "metadata": {},
   "outputs": [
    {
     "data": {
      "text/html": [
       "<div>\n",
       "<style scoped>\n",
       "    .dataframe tbody tr th:only-of-type {\n",
       "        vertical-align: middle;\n",
       "    }\n",
       "\n",
       "    .dataframe tbody tr th {\n",
       "        vertical-align: top;\n",
       "    }\n",
       "\n",
       "    .dataframe thead th {\n",
       "        text-align: right;\n",
       "    }\n",
       "</style>\n",
       "<table border=\"1\" class=\"dataframe\">\n",
       "  <thead>\n",
       "    <tr style=\"text-align: right;\">\n",
       "      <th></th>\n",
       "      <th>Area</th>\n",
       "      <th>Year</th>\n",
       "      <th>pesticides_tonnes</th>\n",
       "      <th>avg_rainfall</th>\n",
       "      <th>avg_temp</th>\n",
       "      <th>Item_Maize</th>\n",
       "    </tr>\n",
       "  </thead>\n",
       "  <tbody>\n",
       "    <tr>\n",
       "      <th>0</th>\n",
       "      <td>Ghana</td>\n",
       "      <td>1990</td>\n",
       "      <td>65.8</td>\n",
       "      <td>1187</td>\n",
       "      <td>26.73</td>\n",
       "      <td>1</td>\n",
       "    </tr>\n",
       "    <tr>\n",
       "      <th>1</th>\n",
       "      <td>Ghana</td>\n",
       "      <td>1991</td>\n",
       "      <td>65.8</td>\n",
       "      <td>1187</td>\n",
       "      <td>26.60</td>\n",
       "      <td>1</td>\n",
       "    </tr>\n",
       "    <tr>\n",
       "      <th>2</th>\n",
       "      <td>Ghana</td>\n",
       "      <td>1992</td>\n",
       "      <td>65.8</td>\n",
       "      <td>1187</td>\n",
       "      <td>26.47</td>\n",
       "      <td>1</td>\n",
       "    </tr>\n",
       "    <tr>\n",
       "      <th>3</th>\n",
       "      <td>Ghana</td>\n",
       "      <td>1993</td>\n",
       "      <td>65.8</td>\n",
       "      <td>1187</td>\n",
       "      <td>26.67</td>\n",
       "      <td>1</td>\n",
       "    </tr>\n",
       "    <tr>\n",
       "      <th>4</th>\n",
       "      <td>Ghana</td>\n",
       "      <td>1994</td>\n",
       "      <td>65.8</td>\n",
       "      <td>1187</td>\n",
       "      <td>26.62</td>\n",
       "      <td>1</td>\n",
       "    </tr>\n",
       "  </tbody>\n",
       "</table>\n",
       "</div>"
      ],
      "text/plain": [
       "    Area  Year  pesticides_tonnes  avg_rainfall  avg_temp  Item_Maize\n",
       "0  Ghana  1990               65.8          1187     26.73           1\n",
       "1  Ghana  1991               65.8          1187     26.60           1\n",
       "2  Ghana  1992               65.8          1187     26.47           1\n",
       "3  Ghana  1993               65.8          1187     26.67           1\n",
       "4  Ghana  1994               65.8          1187     26.62           1"
      ]
     },
     "execution_count": 20,
     "metadata": {},
     "output_type": "execute_result"
    }
   ],
   "source": [
    "df_onehot = pd.get_dummies(df, columns=[\"Item\"], prefix = [\"Item\"])\n",
    "new=df_onehot.loc[:, df_onehot.columns != 'hg/ha_yield']\n",
    "label=df['hg/ha_yield']\n",
    "\n",
    "new.head()"
   ]
  },
  {
   "cell_type": "code",
   "execution_count": 21,
   "metadata": {},
   "outputs": [],
   "source": [
    "new = new.drop(['Year', 'Area', 'Item_Maize'], axis=1)"
   ]
  },
  {
   "cell_type": "code",
   "execution_count": 22,
   "metadata": {},
   "outputs": [
    {
     "data": {
      "text/plain": [
       "<bound method DataFrame.info of      pesticides_tonnes  avg_rainfall  avg_temp\n",
       "0                 65.8          1187     26.73\n",
       "1                 65.8          1187     26.60\n",
       "2                 65.8          1187     26.47\n",
       "3                 65.8          1187     26.67\n",
       "4                 65.8          1187     26.62\n",
       "..                 ...           ...       ...\n",
       "183             1670.0          1020     20.76\n",
       "184             1670.0          1020     21.34\n",
       "185             1670.0          1020     20.88\n",
       "186             1670.0          1020     20.80\n",
       "187             1670.0          1020     20.14\n",
       "\n",
       "[188 rows x 3 columns]>"
      ]
     },
     "execution_count": 22,
     "metadata": {},
     "output_type": "execute_result"
    }
   ],
   "source": [
    "new.info"
   ]
  },
  {
   "cell_type": "code",
   "execution_count": 23,
   "metadata": {},
   "outputs": [],
   "source": [
    "from sklearn.preprocessing import MinMaxScaler\n",
    "scaler=MinMaxScaler()\n",
    "new=scaler.fit_transform(new) "
   ]
  },
  {
   "cell_type": "markdown",
   "metadata": {},
   "source": [
    "# Train Test Split\n",
    "Let's split up the data into a training set and a test set!"
   ]
  },
  {
   "cell_type": "code",
   "execution_count": 24,
   "metadata": {},
   "outputs": [],
   "source": [
    "from sklearn.model_selection import train_test_split"
   ]
  },
  {
   "cell_type": "code",
   "execution_count": 62,
   "metadata": {},
   "outputs": [],
   "source": [
    "from sklearn.model_selection import train_test_split\n",
    "X_train, X_test, y_train, y_test = train_test_split(new, label, test_size=0.30)"
   ]
  },
  {
   "cell_type": "markdown",
   "metadata": {},
   "source": [
    "# DecisionTree"
   ]
  },
  {
   "cell_type": "code",
   "execution_count": 26,
   "metadata": {},
   "outputs": [],
   "source": [
    "from sklearn.tree import DecisionTreeRegressor"
   ]
  },
  {
   "cell_type": "code",
   "execution_count": 27,
   "metadata": {},
   "outputs": [],
   "source": [
    "dtree = DecisionTreeRegressor()"
   ]
  },
  {
   "cell_type": "code",
   "execution_count": 28,
   "metadata": {},
   "outputs": [
    {
     "data": {
      "text/plain": [
       "DecisionTreeRegressor()"
      ]
     },
     "execution_count": 28,
     "metadata": {},
     "output_type": "execute_result"
    }
   ],
   "source": [
    "dtree.fit(X_train,y_train)"
   ]
  },
  {
   "cell_type": "code",
   "execution_count": 29,
   "metadata": {},
   "outputs": [],
   "source": [
    "prediction = dtree.predict(X_test)"
   ]
  },
  {
   "cell_type": "code",
   "execution_count": 59,
   "metadata": {},
   "outputs": [
    {
     "data": {
      "text/plain": [
       "88991.0"
      ]
     },
     "execution_count": 59,
     "metadata": {},
     "output_type": "execute_result"
    }
   ],
   "source": [
    "dtree.predict([[65.8,1187,26.73]])[0]"
   ]
  },
  {
   "cell_type": "code",
   "execution_count": 31,
   "metadata": {},
   "outputs": [],
   "source": [
    "predictions=dtree.predict(X_test)"
   ]
  },
  {
   "cell_type": "code",
   "execution_count": 32,
   "metadata": {},
   "outputs": [],
   "source": [
    "import pickle"
   ]
  },
  {
   "cell_type": "code",
   "execution_count": 33,
   "metadata": {},
   "outputs": [],
   "source": [
    "file=open('yield_pred_dtree.pkl','wb')\n",
    "pickle.dump(dtree,file)"
   ]
  },
  {
   "cell_type": "code",
   "execution_count": 34,
   "metadata": {},
   "outputs": [
    {
     "name": "stdout",
     "output_type": "stream",
     "text": [
      "Mean Absolute Error: 4819.2807017543855\n",
      "Mean Squared Error: 72453574.75438596\n",
      "Root Mean Squared Error: 8511.966562104551\n",
      "R-squared: 0.6671592396730752\n"
     ]
    }
   ],
   "source": [
    "from sklearn.metrics import mean_absolute_error, mean_squared_error, r2_score\n",
    "\n",
    "mae = mean_absolute_error(y_test, predictions)\n",
    "mse = mean_squared_error(y_test, predictions)\n",
    "rmse = np.sqrt(mse)\n",
    "r2 = r2_score(y_test, predictions)\n",
    "\n",
    "print(\"Mean Absolute Error:\", mae)\n",
    "print(\"Mean Squared Error:\", mse)\n",
    "print(\"Root Mean Squared Error:\", rmse)\n",
    "print(\"R-squared:\", r2)"
   ]
  },
  {
   "cell_type": "code",
   "execution_count": 35,
   "metadata": {},
   "outputs": [
    {
     "data": {
      "image/png": "[encoded data removed]",
      "text/plain": [
       "<Figure size 432x288 with 1 Axes>"
      ]
     },
     "metadata": {
      "needs_background": "light"
     },
     "output_type": "display_data"
    }
   ],
   "source": [
    "import matplotlib.pyplot as plt\n",
    "\n",
    "plt.scatter(y_test, predictions)\n",
    "plt.xlabel('Actual Values')\n",
    "plt.ylabel('Predicted Values')\n",
    "plt.title('Scatter Plot of True Values vs Predicted Values')\n",
    "plt.show()"
   ]
  },
  {
   "cell_type": "markdown",
   "metadata": {},
   "source": [
    "# RandomForest"
   ]
  },
  {
   "cell_type": "code",
   "execution_count": 36,
   "metadata": {},
   "outputs": [],
   "source": [
    "from sklearn.ensemble import RandomForestRegressor"
   ]
  },
  {
   "cell_type": "code",
   "execution_count": 37,
   "metadata": {},
   "outputs": [],
   "source": [
    "reg=RandomForestRegressor()"
   ]
  },
  {
   "cell_type": "code",
   "execution_count": 38,
   "metadata": {},
   "outputs": [
    {
     "data": {
      "text/plain": [
       "RandomForestRegressor()"
      ]
     },
     "execution_count": 38,
     "metadata": {},
     "output_type": "execute_result"
    }
   ],
   "source": [
    "reg.fit(X_train,y_train)"
   ]
  },
  {
   "cell_type": "code",
   "execution_count": 39,
   "metadata": {},
   "outputs": [
    {
     "data": {
      "text/plain": [
       "77879.95"
      ]
     },
     "execution_count": 39,
     "metadata": {},
     "output_type": "execute_result"
    }
   ],
   "source": [
    "input_features=[20.8,82.0,6.5]\n",
    "infprob=reg.predict([input_features])[0]\n",
    "infprob"
   ]
  },
  {
   "cell_type": "code",
   "execution_count": 40,
   "metadata": {},
   "outputs": [],
   "source": [
    "predictions=reg.predict(X_test)"
   ]
  },
  {
   "cell_type": "code",
   "execution_count": 41,
   "metadata": {},
   "outputs": [],
   "source": [
    "file=open('yield_pred_rand.pkl','wb')\n",
    "pickle.dump(reg,file)"
   ]
  },
  {
   "cell_type": "code",
   "execution_count": 42,
   "metadata": {},
   "outputs": [
    {
     "name": "stdout",
     "output_type": "stream",
     "text": [
      "Mean Squared Error: 50649785.72663746\n"
     ]
    }
   ],
   "source": [
    "from sklearn.metrics import mean_squared_error\n",
    "\n",
    "mse = mean_squared_error(y_test, predictions)\n",
    "print(\"Mean Squared Error:\", mse)"
   ]
  },
  {
   "cell_type": "code",
   "execution_count": 43,
   "metadata": {},
   "outputs": [
    {
     "name": "stdout",
     "output_type": "stream",
     "text": [
      "Mean Absolute Error: 4364.476355889724\n",
      "Mean Squared Error: 50649785.72663746\n",
      "Root Mean Squared Error: 7116.866285566805\n",
      "R-squared: 0.7673225475927353\n"
     ]
    }
   ],
   "source": [
    "mae = mean_absolute_error(y_test, predictions)\n",
    "mse = mean_squared_error(y_test, predictions)\n",
    "rmse = np.sqrt(mse)\n",
    "r2 = r2_score(y_test, predictions)\n",
    "\n",
    "print(\"Mean Absolute Error:\", mae)\n",
    "print(\"Mean Squared Error:\", mse)\n",
    "print(\"Root Mean Squared Error:\", rmse)\n",
    "print(\"R-squared:\", r2)"
   ]
  },
  {
   "cell_type": "markdown",
   "metadata": {},
   "source": [
    "# K-Nearest Neighbor(KNN)"
   ]
  },
  {
   "cell_type": "code",
   "execution_count": 44,
   "metadata": {},
   "outputs": [
    {
     "data": {
      "text/plain": [
       "KNeighborsRegressor(p=3)"
      ]
     },
     "execution_count": 44,
     "metadata": {},
     "output_type": "execute_result"
    }
   ],
   "source": [
    "from sklearn.neighbors import KNeighborsRegressor  \n",
    "knn= KNeighborsRegressor(n_neighbors=5, metric='minkowski', p=3 )  \n",
    "knn.fit(X_train, y_train)  "
   ]
  },
  {
   "cell_type": "code",
   "execution_count": 45,
   "metadata": {},
   "outputs": [
    {
     "data": {
      "text/plain": [
       "61281.6"
      ]
     },
     "execution_count": 45,
     "metadata": {},
     "output_type": "execute_result"
    }
   ],
   "source": [
    "KNNINT=[20.8,82.0,1.3]\n",
    "result=knn.predict([KNNINT])[0]\n",
    "result"
   ]
  },
  {
   "cell_type": "code",
   "execution_count": 46,
   "metadata": {},
   "outputs": [],
   "source": [
    "knnprediction=knn.predict(X_test)"
   ]
  },
  {
   "cell_type": "code",
   "execution_count": 47,
   "metadata": {},
   "outputs": [],
   "source": [
    "file=open('yield_pred_knn.pkl','wb')\n",
    "pickle.dump(knn,file)"
   ]
  },
  {
   "cell_type": "code",
   "execution_count": 48,
   "metadata": {},
   "outputs": [
    {
     "name": "stdout",
     "output_type": "stream",
     "text": [
      "Mean Absolute Error: 4364.476355889724\n",
      "Mean Squared Error: 50649785.72663746\n",
      "Root Mean Squared Error: 7116.866285566805\n",
      "R-squared: 0.7673225475927353\n"
     ]
    }
   ],
   "source": [
    "mae = mean_absolute_error(y_test, predictions)\n",
    "mse = mean_squared_error(y_test, predictions)\n",
    "rmse = np.sqrt(mse)\n",
    "r2 = r2_score(y_test, predictions)\n",
    "\n",
    "print(\"Mean Absolute Error:\", mae)\n",
    "print(\"Mean Squared Error:\", mse)\n",
    "print(\"Root Mean Squared Error:\", rmse)\n",
    "print(\"R-squared:\", r2)"
   ]
  },
  {
   "cell_type": "markdown",
   "metadata": {},
   "source": [
    "# Support Vector Machine Algorithm(SVM)"
   ]
  },
  {
   "cell_type": "code",
   "execution_count": 49,
   "metadata": {},
   "outputs": [
    {
     "data": {
      "text/plain": [
       "SVR(kernel='linear')"
      ]
     },
     "execution_count": 49,
     "metadata": {},
     "output_type": "execute_result"
    }
   ],
   "source": [
    "from sklearn import svm\n",
    "from sklearn.svm import SVR  \n",
    "svr = SVR(kernel='linear')  \n",
    "svr.fit(X_train, y_train)"
   ]
  },
  {
   "cell_type": "code",
   "execution_count": 50,
   "metadata": {},
   "outputs": [
    {
     "data": {
      "text/plain": [
       "22157.29894480758"
      ]
     },
     "execution_count": 50,
     "metadata": {},
     "output_type": "execute_result"
    }
   ],
   "source": [
    "SVR=[26.986037,89.413849,6.260839]\n",
    "results=svr.predict([SVR])[0]\n",
    "results"
   ]
  },
  {
   "cell_type": "code",
   "execution_count": 51,
   "metadata": {},
   "outputs": [],
   "source": [
    "svrprediction=svr.predict(X_test)"
   ]
  },
  {
   "cell_type": "code",
   "execution_count": 52,
   "metadata": {},
   "outputs": [],
   "source": [
    "file=open('yield_pred_svr.pkl','wb')\n",
    "pickle.dump(svr,file)"
   ]
  },
  {
   "cell_type": "code",
   "execution_count": 53,
   "metadata": {},
   "outputs": [],
   "source": [
    "from sklearn.model_selection import train_test_split\n",
    "train_data, test_data, train_labels, test_labels = train_test_split(new, label, test_size=0.3, random_state=42)"
   ]
  },
  {
   "cell_type": "code",
   "execution_count": 54,
   "metadata": {},
   "outputs": [],
   "source": [
    "from sklearn.metrics import r2_score\n",
    "def compare_models(model):\n",
    "    model_name = model.__class__.__name__\n",
    "    fit=model.fit(train_data,train_labels)\n",
    "    y_pred=fit.predict(test_data)\n",
    "    r2=r2_score(test_labels,y_pred)\n",
    "    return([model_name,r2])"
   ]
  },
  {
   "cell_type": "code",
   "execution_count": 55,
   "metadata": {},
   "outputs": [],
   "source": [
    "from sklearn.ensemble import GradientBoostingRegressor\n",
    "\n",
    "models = [\n",
    "    GradientBoostingRegressor(n_estimators=200, max_depth=3, random_state=0),\n",
    "     RandomForestRegressor(n_estimators=200, max_depth=3, random_state=0),\n",
    "    svm.SVR(),\n",
    "   DecisionTreeRegressor()\n",
    "]"
   ]
  },
  {
   "cell_type": "code",
   "execution_count": 56,
   "metadata": {},
   "outputs": [],
   "source": [
    "model_train=list(map(compare_models,models)) "
   ]
  },
  {
   "cell_type": "code",
   "execution_count": 57,
   "metadata": {},
   "outputs": [
    {
     "name": "stdout",
     "output_type": "stream",
     "text": [
      "['GradientBoostingRegressor', 0.6049344722655409]\n",
      "['RandomForestRegressor', 0.7650815507293778]\n",
      "['SVR', -0.025328122682621412]\n",
      "['DecisionTreeRegressor', 0.563021951935613]\n"
     ]
    }
   ],
   "source": [
    "print(*model_train, sep = \"\\n\")"
   ]
  },
  {
   "cell_type": "code",
   "execution_count": 58,
   "metadata": {},
   "outputs": [],
   "source": [
    "file=open('yield_pred_models.pkl','wb')\n",
    "pickle.dump(models,file)"
   ]
  }
 ],
 "metadata": {
  "kernelspec": {
   "display_name": "Python 3",
   "language": "python",
   "name": "python3"
  },
  "language_info": {
   "codemirror_mode": {
    "name": "ipython",
    "version": 3
   },
   "file_extension": ".py",
   "mimetype": "text/x-python",
   "name": "python",
   "nbconvert_exporter": "python",
   "pygments_lexer": "ipython3",
   "version": "3.8.5"
  }
 },
 "nbformat": 4,
 "nbformat_minor": 2
}
